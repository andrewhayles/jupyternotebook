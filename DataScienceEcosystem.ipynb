{
 "cells": [
  {
   "cell_type": "markdown",
   "id": "5ee3350a-2930-4592-8d2f-51bf26d8785c",
   "metadata": {},
   "source": [
    "# Data Science Tools and Ecosystem"
   ]
  },
  {
   "cell_type": "markdown",
   "id": "348eb55c-15b6-43d9-b58f-27d94def5c2b",
   "metadata": {},
   "source": [
    "In this notebook, Data Science tools and ecosystem are described."
   ]
  },
  {
   "cell_type": "markdown",
   "id": "41f12aa1-762d-41ce-8643-0efa29391227",
   "metadata": {},
   "source": [
    "**Objectives:**\n",
    "* Cover some popular languages\n",
    "* Cover some popular libraries\n",
    "* Show some examples of calculations with Python"
   ]
  },
  {
   "cell_type": "markdown",
   "id": "eb4919f3-a360-4fac-833d-6b51572e5969",
   "metadata": {},
   "source": [
    "Some popular languages used by Data Scientists include:\n",
    "1. Python\n",
    "2. R\n",
    "3. Julia"
   ]
  },
  {
   "cell_type": "markdown",
   "id": "d3ab7fbe-19db-49d1-a047-c07af82de43f",
   "metadata": {},
   "source": [
    "Some common libraries used by Data Scientists include:\n",
    "1. Numpy\n",
    "2. Scipy\n",
    "3. Pandas\n",
    "4. Matplotlib"
   ]
  },
  {
   "cell_type": "markdown",
   "id": "0cdfc469-086b-404d-a5aa-0785964f67a0",
   "metadata": {},
   "source": [
    "|Data Science Tools|\n",
    "|------------------|\n",
    "|Jupyter Lab|\n",
    "|Jupyter Notebook|\n",
    "|Microsoft Visual Studio|"
   ]
  },
  {
   "cell_type": "markdown",
   "id": "31dcd634-f7a2-4c7e-89f3-ea90b89abcaa",
   "metadata": {},
   "source": [
    "### Below are a few examples of arithmetic expressions in Python"
   ]
  },
  {
   "cell_type": "code",
   "execution_count": 3,
   "id": "90f130ee-34ea-4c80-abdc-fb7fd7e3c983",
   "metadata": {},
   "outputs": [
    {
     "data": {
      "text/plain": [
       "17"
      ]
     },
     "execution_count": 3,
     "metadata": {},
     "output_type": "execute_result"
    }
   ],
   "source": [
    "# This is a simple arithmetic expression to add and multiply numbers.\n",
    "(3*4)+5"
   ]
  },
  {
   "cell_type": "code",
   "execution_count": 6,
   "id": "cfb5409c-97d2-4a04-bd27-65778352b669",
   "metadata": {},
   "outputs": [
    {
     "data": {
      "text/plain": [
       "3.33"
      ]
     },
     "execution_count": 6,
     "metadata": {},
     "output_type": "execute_result"
    }
   ],
   "source": [
    "#This will convert 200 minutes to hours by dividing by a conversion factor of 60 minutes/hour\n",
    "round(200/60, 2)"
   ]
  },
  {
   "cell_type": "markdown",
   "id": "e784a7df-502a-4f64-9023-d756d64bf0ac",
   "metadata": {},
   "source": [
    "## Author\n",
    "Andrew Hayles"
   ]
  },
  {
   "cell_type": "code",
   "execution_count": null,
   "id": "b6aca994-cad5-4664-899e-24681e2a6792",
   "metadata": {},
   "outputs": [],
   "source": []
  }
 ],
 "metadata": {
  "kernelspec": {
   "display_name": "Python 3 (ipykernel)",
   "language": "python",
   "name": "python3"
  },
  "language_info": {
   "codemirror_mode": {
    "name": "ipython",
    "version": 3
   },
   "file_extension": ".py",
   "mimetype": "text/x-python",
   "name": "python",
   "nbconvert_exporter": "python",
   "pygments_lexer": "ipython3",
   "version": "3.12.8"
  }
 },
 "nbformat": 4,
 "nbformat_minor": 5
}
